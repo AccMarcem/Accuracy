{
 "cells": [
  {
   "cell_type": "code",
   "execution_count": 1,
   "id": "05c1953a",
   "metadata": {},
   "outputs": [],
   "source": [
    "import joblib"
   ]
  },
  {
   "cell_type": "code",
   "execution_count": 3,
   "id": "84d742d5",
   "metadata": {},
   "outputs": [],
   "source": [
    "objet = joblib.load(r'C:/Users/admin/Desktop/Projet_A-main/Python package/models/dav_part_stable_SNF.joblib')"
   ]
  },
  {
   "cell_type": "code",
   "execution_count": 5,
   "id": "dac0fb77",
   "metadata": {},
   "outputs": [
    {
     "name": "stdout",
     "output_type": "stream",
     "text": [
      "LinearRegression()\n"
     ]
    }
   ],
   "source": [
    "print(objet)"
   ]
  },
  {
   "cell_type": "code",
   "execution_count": null,
   "id": "e07d1a81",
   "metadata": {},
   "outputs": [],
   "source": []
  }
 ],
 "metadata": {
  "kernelspec": {
   "display_name": "Python 3 (ipykernel)",
   "language": "python",
   "name": "python3"
  },
  "language_info": {
   "codemirror_mode": {
    "name": "ipython",
    "version": 3
   },
   "file_extension": ".py",
   "mimetype": "text/x-python",
   "name": "python",
   "nbconvert_exporter": "python",
   "pygments_lexer": "ipython3",
   "version": "3.11.5"
  }
 },
 "nbformat": 4,
 "nbformat_minor": 5
}
